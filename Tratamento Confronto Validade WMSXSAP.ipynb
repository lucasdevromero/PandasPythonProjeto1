{
 "cells": [
  {
   "cell_type": "code",
   "execution_count": 1,
   "id": "916165b7-73e8-4657-8f22-8ddfb590ec14",
   "metadata": {},
   "outputs": [
    {
     "name": "stdout",
     "output_type": "stream",
     "text": [
      "Requirement already satisfied: xlrd in c:\\users\\lucasr.silva\\appdata\\local\\anaconda3\\lib\\site-packages (2.0.1)Note: you may need to restart the kernel to use updated packages.\n",
      "\n"
     ]
    }
   ],
   "source": [
    "pip install xlrd"
   ]
  },
  {
   "cell_type": "code",
   "execution_count": 2,
   "id": "e79e2fdb-cc56-4aa7-9b6e-c74c8a323bfa",
   "metadata": {},
   "outputs": [],
   "source": [
    "import pandas as pd"
   ]
  },
  {
   "cell_type": "code",
   "execution_count": 3,
   "id": "a949e41f-f196-4ba6-bb95-67c6719a2f62",
   "metadata": {},
   "outputs": [],
   "source": [
    "#Puxando as bases de analise SAP e WMS e renomenado as colunas do 819\n",
    "wms_df = pd.read_excel(r'C:\\Users\\lucasr.silva\\Desktop\\Gallo\\Confronto WMS X SAP\\Semana 48\\819 GALLO.xls')\n",
    "sap_df = pd.read_excel(r'C:\\Users\\lucasr.silva\\Desktop\\Gallo\\Confronto WMS X SAP\\Semana 48\\SAP GALLO.xlsx')\n",
    "column_names = {\n",
    "    'Praz Min': 'C.Custo',\n",
    "    'Praz Min G.R.': 'Cliente',\n",
    "    'OK\\nPraz Min ': 'Produto',\n",
    "    'Ok? Praz Min G.R.': 'Descrição',\n",
    "    'Giro': 'UN',\n",
    "    'Bloq End.': 'Vencto.',\n",
    "    'End.\\nPick.': 'Lote',\n",
    "    'Grupo': 'Nota Entr.',\n",
    "    'Unnamed: 8': 'Data Entr. NF',\n",
    "    'Unnamed: 9': 'Tipo',\n",
    "    'Unnamed: 10': 'UU',\n",
    "    'Unnamed: 11': 'Dep',\n",
    "    'Unnamed: 12': 'CD',\n",
    "    'Unnamed: 13': 'Setor',\n",
    "    'Unnamed: 14': 'SubSetor',\n",
    "    'Unnamed: 15': 'Rua',\n",
    "    'Unnamed: 16': 'Predio',\n",
    "    'Unnamed: 17': 'Andar',\n",
    "    'Unnamed: 18': 'Qtd',\n",
    "    'Unnamed: 19': 'Reserva',\n",
    "    'Unnamed: 20': 'Vl. Unit',\n",
    "    'Unnamed: 21': 'Shelf Life?',\n",
    "    'Unnamed: 22': 'Praz Min',\n",
    "    'Unnamed: 23': 'Praz Min G.R.',\n",
    "    'Unnamed: 24': 'OK',\n",
    "    'Unnamed: 25': 'Ok? Praz Min G.R.',\n",
    "    'Unnamed: 26': 'Giro',\n",
    "    'Unnamed: 27': 'Bloq End.',\n",
    "    'Unnamed: 28': 'End.',\n",
    "    'Unnamed: 29': 'Status Endereço',\n",
    "    'Unnamed: 30': 'Bloqueio Gestão',\n",
    "    'Unnamed: 31': 'Grupo',\n",
    "}\n",
    "\n",
    "wms_df = wms_df.rename(columns=column_names)"
   ]
  },
  {
   "cell_type": "code",
   "execution_count": 4,
   "id": "17db795e-5a72-4a74-95fb-98bb2f6952c8",
   "metadata": {},
   "outputs": [],
   "source": [
    "#Filtrando as colunas da planilhas de acordo com a analise\n",
    "wms_df = wms_df[['Produto','Descrição','Lote','Vencto.','Status Endereço']]\n",
    "sap_df = sap_df[['Material','Batch','Shelf life exp. date']]\n",
    "\n",
    "wms_df['Produto'] = wms_df['Produto'].astype(str)\n",
    "wms_df['Produto'] = wms_df['Produto'].str.rstrip(\".0\")"
   ]
  },
  {
   "cell_type": "code",
   "execution_count": 5,
   "id": "8d54f771-a296-4b2e-9ecb-06cdc3b3676b",
   "metadata": {},
   "outputs": [],
   "source": [
    "#concatenando as colunas de dataas e ID\n",
    "wms_df['Mês WMS'] = wms_df['Vencto.'].dt.month\n",
    "wms_df['Ano WMS'] = wms_df['Vencto.'].dt.year\n",
    "wms_df['ID'] = wms_df['Produto'].astype(str) + ' ' + wms_df['Lote'].astype(str)\n",
    "wms_df['Mês/Ano WMS'] = wms_df['Mês WMS'].astype(str) + '/' + wms_df['Ano WMS'].astype(str)\n",
    "\n",
    "sap_df['Mês SAP'] = sap_df['Shelf life exp. date'].dt.month\n",
    "sap_df['Ano SAP'] = sap_df['Shelf life exp. date'].dt.year\n",
    "sap_df['ID'] = sap_df['Material'].astype(str) + ' ' + sap_df['Batch'].astype(str)\n",
    "sap_df['Mês/Ano SAP'] = sap_df['Mês SAP'].astype(str) + '/' + sap_df['Ano SAP'].astype(str)"
   ]
  },
  {
   "cell_type": "code",
   "execution_count": 6,
   "id": "4876ef9f-e4fe-43ca-9edc-bc2075164b45",
   "metadata": {},
   "outputs": [],
   "source": [
    "#Merge de SAP com WMS\n",
    "confronto_df = sap_df.merge(wms_df,on='ID',how='inner')"
   ]
  },
  {
   "cell_type": "code",
   "execution_count": 7,
   "id": "1b74a1ce-1d83-484e-bb3f-a6afc1b4327a",
   "metadata": {},
   "outputs": [],
   "source": [
    "#Trazendo as colunas desejadas do confronto\n",
    "confronto_df = confronto_df[['Produto','Descrição','Lote','ID','Shelf life exp. date','Vencto.','Mês/Ano SAP','Mês/Ano WMS','Status Endereço']]\n",
    "# Supondo que 'Shelf life exp. date' e 'Vencto.' estão no formato 'YYYY-MM-DD'\n",
    "confronto_df['Shelf life exp. date'] = pd.to_datetime(confronto_df['Shelf life exp. date'], format='%d/%m/%Y')\n",
    "confronto_df['Vencto.'] = pd.to_datetime(confronto_df['Vencto.'], format='%d/%m/%Y')\n",
    "\n",
    "confronto_df['Mês/Ano SAP'] = confronto_df['Mês/Ano SAP'].str.rstrip(\".0\")\n",
    "confronto_df['Mês/Ano WMS'] = confronto_df['Mês/Ano WMS'].str.rstrip(\".0\")"
   ]
  },
  {
   "cell_type": "code",
   "execution_count": 8,
   "id": "d216a333-6d2e-4047-8373-d744bb69e8a9",
   "metadata": {},
   "outputs": [],
   "source": [
    "#Trazendo as colunas desejadas do confronto adicionando colunas de formulas\n",
    "def lote(vsap, vwms):\n",
    "    if vsap == vwms:\n",
    "        return 'Lote OK'\n",
    "    else:\n",
    "        return 'Lote Nok'\n",
    "\n",
    "confronto_df['Status_Lote'] = confronto_df.apply(lambda x: lote(x['Mês/Ano SAP'], x['Mês/Ano WMS']), axis=1)\n",
    "\n",
    "def lote(acao):\n",
    "    if acao == 'Lote Nok':\n",
    "        return 'Validar Fisico'\n",
    "    else:\n",
    "        return '-'\n",
    "\n",
    "confronto_df['Ação'] = confronto_df['Status_Lote'].apply(lote)"
   ]
  },
  {
   "cell_type": "code",
   "execution_count": 9,
   "id": "fecc8f45-b33a-4caa-a12a-b606fad585bf",
   "metadata": {},
   "outputs": [
    {
     "name": "stdout",
     "output_type": "stream",
     "text": [
      "DataFrame salvo com sucesso!\n"
     ]
    }
   ],
   "source": [
    "import os\n",
    "\n",
    "# Definindo o caminho da pasta e do arquivo\n",
    "pasta = r\"C:\\Users\\lucasr.silva\\Desktop\\Gallo\\Confronto WMS X SAP\\Semana 48\"\n",
    "arquivo = \"confront_df.xlsx\"\n",
    "caminho_completo = os.path.join(pasta, arquivo)\n",
    "\n",
    "# Criando a pasta, se não existir\n",
    "os.makedirs(pasta, exist_ok=True)\n",
    "\n",
    "# Salvando o DataFrame\n",
    "try:\n",
    "    confronto_df.to_excel(caminho_completo, index=False)\n",
    "    print(\"DataFrame salvo com sucesso!\")\n",
    "except OSError as e:\n",
    "    print(f\"Erro ao salvar o arquivo: {e}\")"
   ]
  },
  {
   "cell_type": "code",
   "execution_count": null,
   "id": "3afa1513-cbd6-4ab4-8c7c-e7cc3d9641ce",
   "metadata": {},
   "outputs": [],
   "source": []
  }
 ],
 "metadata": {
  "kernelspec": {
   "display_name": "Python 3 (ipykernel)",
   "language": "python",
   "name": "python3"
  },
  "language_info": {
   "codemirror_mode": {
    "name": "ipython",
    "version": 3
   },
   "file_extension": ".py",
   "mimetype": "text/x-python",
   "name": "python",
   "nbconvert_exporter": "python",
   "pygments_lexer": "ipython3",
   "version": "3.12.7"
  }
 },
 "nbformat": 4,
 "nbformat_minor": 5
}
